{
 "cells": [
  {
   "cell_type": "code",
   "execution_count": 1,
   "id": "492bcace-1b19-40ae-912e-a597432b005e",
   "metadata": {},
   "outputs": [],
   "source": [
    "import pandas as pd\n",
    "with open(\"customer_list.csv\", \"r\") as file:\n",
    "    data = file.read()"
   ]
  },
  {
   "cell_type": "code",
   "execution_count": 2,
   "id": "df521912-e6d1-4c89-a642-5a88838392a7",
   "metadata": {},
   "outputs": [],
   "source": [
    "rows = data.strip().split(\"\\n\")"
   ]
  },
  {
   "cell_type": "code",
   "execution_count": 3,
   "id": "20ee4838-af97-4c29-9947-157b0dffe000",
   "metadata": {},
   "outputs": [],
   "source": [
    "columns = rows[0].split(\"|\")\n",
    "data_rows = [row.split(\"|\") for row in rows[1:]]"
   ]
  },
  {
   "cell_type": "code",
   "execution_count": 4,
   "id": "a9460fe6-570f-4bff-bc04-948f1fa9ae4b",
   "metadata": {},
   "outputs": [],
   "source": [
    "customer_data_split = pd.DataFrame(data_rows, columns=columns)"
   ]
  },
  {
   "cell_type": "code",
   "execution_count": 5,
   "id": "88b4e79d-68f0-4cd6-a921-dcf8d8267b0f",
   "metadata": {},
   "outputs": [
    {
     "data": {
      "text/html": [
       "<div>\n",
       "<style scoped>\n",
       "    .dataframe tbody tr th:only-of-type {\n",
       "        vertical-align: middle;\n",
       "    }\n",
       "\n",
       "    .dataframe tbody tr th {\n",
       "        vertical-align: top;\n",
       "    }\n",
       "\n",
       "    .dataframe thead th {\n",
       "        text-align: right;\n",
       "    }\n",
       "</style>\n",
       "<table border=\"1\" class=\"dataframe\">\n",
       "  <thead>\n",
       "    <tr style=\"text-align: right;\">\n",
       "      <th></th>\n",
       "      <th>ï»¿cust_id</th>\n",
       "      <th>date</th>\n",
       "      <th>time</th>\n",
       "      <th>name</th>\n",
       "      <th>email</th>\n",
       "      <th>phone</th>\n",
       "      <th>sms-opt-out</th>\n",
       "    </tr>\n",
       "  </thead>\n",
       "  <tbody>\n",
       "    <tr>\n",
       "      <th>0</th>\n",
       "      <td>1</td>\n",
       "      <td>2023-03-15</td>\n",
       "      <td>08:45:12</td>\n",
       "      <td>Rachel</td>\n",
       "      <td>rachel@centralperk.coffee</td>\n",
       "      <td>212-555-1001</td>\n",
       "      <td>N</td>\n",
       "    </tr>\n",
       "    <tr>\n",
       "      <th>1</th>\n",
       "      <td>2</td>\n",
       "      <td>2023-05-22</td>\n",
       "      <td>12:30:45</td>\n",
       "      <td>R. Geller</td>\n",
       "      <td>rossg@centralperk.coffee</td>\n",
       "      <td>212-555-1002</td>\n",
       "      <td>N</td>\n",
       "    </tr>\n",
       "    <tr>\n",
       "      <th>2</th>\n",
       "      <td>3</td>\n",
       "      <td>2023-07-09</td>\n",
       "      <td>18:15:27</td>\n",
       "      <td>Monica Geller</td>\n",
       "      <td>chefmonica@centralperk.coffee</td>\n",
       "      <td>212-555-1003</td>\n",
       "      <td>N</td>\n",
       "    </tr>\n",
       "    <tr>\n",
       "      <th>3</th>\n",
       "      <td>4</td>\n",
       "      <td>2023-09-01</td>\n",
       "      <td>21:05:33</td>\n",
       "      <td>Chandler Bing</td>\n",
       "      <td>chandlerb@centralperk.coffee</td>\n",
       "      <td>212-555-1004</td>\n",
       "      <td>Y</td>\n",
       "    </tr>\n",
       "    <tr>\n",
       "      <th>4</th>\n",
       "      <td>5</td>\n",
       "      <td>2023-11-18</td>\n",
       "      <td>14:22:10</td>\n",
       "      <td>Joey</td>\n",
       "      <td>howyoudoing@centralperk.coffee</td>\n",
       "      <td>212-555-1005</td>\n",
       "      <td>N</td>\n",
       "    </tr>\n",
       "  </tbody>\n",
       "</table>\n",
       "</div>"
      ],
      "text/plain": [
       "  ï»¿cust_id        date      time           name  \\\n",
       "0          1  2023-03-15  08:45:12         Rachel   \n",
       "1          2  2023-05-22  12:30:45      R. Geller   \n",
       "2          3  2023-07-09  18:15:27  Monica Geller   \n",
       "3          4  2023-09-01  21:05:33  Chandler Bing   \n",
       "4          5  2023-11-18  14:22:10           Joey   \n",
       "\n",
       "                            email         phone sms-opt-out   \n",
       "0       rachel@centralperk.coffee  212-555-1001            N  \n",
       "1        rossg@centralperk.coffee  212-555-1002            N  \n",
       "2   chefmonica@centralperk.coffee  212-555-1003            N  \n",
       "3    chandlerb@centralperk.coffee  212-555-1004            Y  \n",
       "4  howyoudoing@centralperk.coffee  212-555-1005            N  "
      ]
     },
     "execution_count": 5,
     "metadata": {},
     "output_type": "execute_result"
    }
   ],
   "source": [
    "customer_data_split.head()"
   ]
  },
  {
   "cell_type": "code",
   "execution_count": 6,
   "id": "cad45993-6a8b-4a24-89d4-6d5e3f7a8184",
   "metadata": {},
   "outputs": [
    {
     "name": "stdout",
     "output_type": "stream",
     "text": [
      "Index(['cust_id', 'date', 'time', 'name', 'email', 'phone', 'sms_opt_out'], dtype='object')\n"
     ]
    }
   ],
   "source": [
    "customer_data_split.rename(columns={\"ï»¿cust_id\": \"cust_id\", \"sms-opt-out \": \"sms_opt_out\"}, inplace=True) \n",
    "\n",
    "# Renames cust_id and sms_opt_out columns accordingly\n",
    "\n",
    "print(customer_data_split.columns) "
   ]
  },
  {
   "cell_type": "code",
   "execution_count": 7,
   "id": "17b2625b-cf78-479a-8ff6-b71f5522c220",
   "metadata": {},
   "outputs": [],
   "source": [
    "customer_data_split.loc[customer_data_split['sms_opt_out'].isnull(), 'sms_opt_out'] = \"N\" #missing values are replaced with \"N\" in the sms_opt_out"
   ]
  },
  {
   "cell_type": "code",
   "execution_count": 8,
   "id": "2d4f71c6-cf28-469c-b791-081fdee3df33",
   "metadata": {},
   "outputs": [
    {
     "data": {
      "text/html": [
       "<div>\n",
       "<style scoped>\n",
       "    .dataframe tbody tr th:only-of-type {\n",
       "        vertical-align: middle;\n",
       "    }\n",
       "\n",
       "    .dataframe tbody tr th {\n",
       "        vertical-align: top;\n",
       "    }\n",
       "\n",
       "    .dataframe thead th {\n",
       "        text-align: right;\n",
       "    }\n",
       "</style>\n",
       "<table border=\"1\" class=\"dataframe\">\n",
       "  <thead>\n",
       "    <tr style=\"text-align: right;\">\n",
       "      <th></th>\n",
       "      <th>cust_id</th>\n",
       "      <th>date</th>\n",
       "      <th>time</th>\n",
       "      <th>name</th>\n",
       "      <th>email</th>\n",
       "      <th>phone</th>\n",
       "      <th>sms_opt_out</th>\n",
       "    </tr>\n",
       "  </thead>\n",
       "  <tbody>\n",
       "    <tr>\n",
       "      <th>0</th>\n",
       "      <td>1</td>\n",
       "      <td>2023-03-15</td>\n",
       "      <td>08:45:12</td>\n",
       "      <td>Rachel</td>\n",
       "      <td>rachel@centralperk.coffee</td>\n",
       "      <td>212-555-1001</td>\n",
       "      <td>N</td>\n",
       "    </tr>\n",
       "    <tr>\n",
       "      <th>1</th>\n",
       "      <td>2</td>\n",
       "      <td>2023-05-22</td>\n",
       "      <td>12:30:45</td>\n",
       "      <td>R. Geller</td>\n",
       "      <td>rossg@centralperk.coffee</td>\n",
       "      <td>212-555-1002</td>\n",
       "      <td>N</td>\n",
       "    </tr>\n",
       "    <tr>\n",
       "      <th>2</th>\n",
       "      <td>3</td>\n",
       "      <td>2023-07-09</td>\n",
       "      <td>18:15:27</td>\n",
       "      <td>Monica Geller</td>\n",
       "      <td>chefmonica@centralperk.coffee</td>\n",
       "      <td>212-555-1003</td>\n",
       "      <td>N</td>\n",
       "    </tr>\n",
       "    <tr>\n",
       "      <th>3</th>\n",
       "      <td>4</td>\n",
       "      <td>2023-09-01</td>\n",
       "      <td>21:05:33</td>\n",
       "      <td>Chandler Bing</td>\n",
       "      <td>chandlerb@centralperk.coffee</td>\n",
       "      <td>212-555-1004</td>\n",
       "      <td>Y</td>\n",
       "    </tr>\n",
       "    <tr>\n",
       "      <th>4</th>\n",
       "      <td>5</td>\n",
       "      <td>2023-11-18</td>\n",
       "      <td>14:22:10</td>\n",
       "      <td>Joey</td>\n",
       "      <td>howyoudoing@centralperk.coffee</td>\n",
       "      <td>212-555-1005</td>\n",
       "      <td>N</td>\n",
       "    </tr>\n",
       "  </tbody>\n",
       "</table>\n",
       "</div>"
      ],
      "text/plain": [
       "  cust_id        date      time           name  \\\n",
       "0       1  2023-03-15  08:45:12         Rachel   \n",
       "1       2  2023-05-22  12:30:45      R. Geller   \n",
       "2       3  2023-07-09  18:15:27  Monica Geller   \n",
       "3       4  2023-09-01  21:05:33  Chandler Bing   \n",
       "4       5  2023-11-18  14:22:10           Joey   \n",
       "\n",
       "                            email         phone sms_opt_out  \n",
       "0       rachel@centralperk.coffee  212-555-1001           N  \n",
       "1        rossg@centralperk.coffee  212-555-1002           N  \n",
       "2   chefmonica@centralperk.coffee  212-555-1003           N  \n",
       "3    chandlerb@centralperk.coffee  212-555-1004           Y  \n",
       "4  howyoudoing@centralperk.coffee  212-555-1005           N  "
      ]
     },
     "execution_count": 8,
     "metadata": {},
     "output_type": "execute_result"
    }
   ],
   "source": [
    "customer_data_split.head()"
   ]
  },
  {
   "cell_type": "code",
   "execution_count": 9,
   "id": "0358bb38-8bc0-4c2c-a773-e56eabf11c6e",
   "metadata": {
    "scrolled": true
   },
   "outputs": [],
   "source": [
    "customer_data_split['phone'] = customer_data_split['phone'].apply(\n",
    "    lambda x: ''.join(filter(str.isdigit, x))[-10:] if x else None  # Remove non-numeric characters and keep last 10 digits\n",
    ")\n",
    "customer_data_split['phone'] = customer_data_split['phone'].apply(\n",
    "    lambda x: f\"{x[:3]}-{x[3:6]}-{x[6:]}\" if x and len(x) == 10 else None  # Format only if x has exactly 10 digits\n",
    ")"
   ]
  },
  {
   "cell_type": "code",
   "execution_count": 10,
   "id": "603fef64-1fa2-48a0-88c3-cc2babb6ee0f",
   "metadata": {},
   "outputs": [],
   "source": [
    "customer_data_split['email'] = customer_data_split['email'].str.lower().str.strip() #Convert email to lowercase and strip any whitespace"
   ]
  },
  {
   "cell_type": "code",
   "execution_count": 11,
   "id": "ebb3cdb9-9616-4367-b773-3213c486960d",
   "metadata": {},
   "outputs": [],
   "source": [
    "customer_data_split['date'] = pd.to_datetime(customer_data_split['date'], errors='coerce') # # Convert date column to a consistent datetime format"
   ]
  },
  {
   "cell_type": "code",
   "execution_count": 12,
   "id": "7cc36471-2927-4ea0-9724-6ea2b75bb447",
   "metadata": {},
   "outputs": [],
   "source": [
    "customer_data_split['name'] = customer_data_split['name'].str.replace(r\"[^a-zA-Z-.' ]\", '', regex=True).str.title().str.strip()\n",
    "#Removes characters that are not letters, hyphens, or periods"
   ]
  },
  {
   "cell_type": "code",
   "execution_count": 13,
   "id": "9bb24c1f-d66e-4950-a038-1eb8f9a89f28",
   "metadata": {},
   "outputs": [],
   "source": [
    "customer_data_split.drop_duplicates(subset=['cust_id', 'email'], inplace=True) # Removes duplicates based on name and email"
   ]
  },
  {
   "cell_type": "code",
   "execution_count": 14,
   "id": "e8e70d34-f449-46dd-958a-7164c5643bb3",
   "metadata": {},
   "outputs": [],
   "source": [
    "customer_data_split.to_csv(\"cleaned_customer_data.csv\", index=False)"
   ]
  }
 ],
 "metadata": {
  "kernelspec": {
   "display_name": "Python 3 (ipykernel)",
   "language": "python",
   "name": "python3"
  },
  "language_info": {
   "codemirror_mode": {
    "name": "ipython",
    "version": 3
   },
   "file_extension": ".py",
   "mimetype": "text/x-python",
   "name": "python",
   "nbconvert_exporter": "python",
   "pygments_lexer": "ipython3",
   "version": "3.12.3"
  }
 },
 "nbformat": 4,
 "nbformat_minor": 5
}
