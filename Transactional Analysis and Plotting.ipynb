{
 "cells": [
  {
   "cell_type": "markdown",
   "id": "99e65bd3-e4b6-4151-950e-f7e066bd3b6e",
   "metadata": {},
   "source": [
    "# Transactional Analysis and Plotting"
   ]
  },
  {
   "cell_type": "markdown",
   "id": "3a18b9ec-4aad-4c69-814e-7ece0e5b8c7f",
   "metadata": {},
   "source": [
    "## Once again, first things first import my libraries"
   ]
  },
  {
   "cell_type": "code",
   "execution_count": 1,
   "id": "2a953c07-ecf9-499c-aefa-9ab1d6427f41",
   "metadata": {},
   "outputs": [],
   "source": [
    "import pandas as pd\n",
    "import numpy as np\n",
    "import matplotlib.pyplot as plt\n",
    "\n",
    "df = pd.read_csv('transaction_data.csv')"
   ]
  },
  {
   "cell_type": "markdown",
   "id": "9b4ce2c1-653a-41cf-8772-1f3cdb63bea2",
   "metadata": {},
   "source": [
    "### Displays the first 10 transactions"
   ]
  },
  {
   "cell_type": "code",
   "execution_count": 2,
   "id": "4acf5e39-3418-4a63-bdbd-a8342d9eb4e0",
   "metadata": {},
   "outputs": [
    {
     "data": {
      "text/html": [
       "<div>\n",
       "<style scoped>\n",
       "    .dataframe tbody tr th:only-of-type {\n",
       "        vertical-align: middle;\n",
       "    }\n",
       "\n",
       "    .dataframe tbody tr th {\n",
       "        vertical-align: top;\n",
       "    }\n",
       "\n",
       "    .dataframe thead th {\n",
       "        text-align: right;\n",
       "    }\n",
       "</style>\n",
       "<table border=\"1\" class=\"dataframe\">\n",
       "  <thead>\n",
       "    <tr style=\"text-align: right;\">\n",
       "      <th></th>\n",
       "      <th>TransactionID</th>\n",
       "      <th>CustID</th>\n",
       "      <th>Date</th>\n",
       "      <th>Employee</th>\n",
       "      <th>ProductID</th>\n",
       "      <th>ProductName</th>\n",
       "      <th>VendorID</th>\n",
       "      <th>ProductVendor</th>\n",
       "      <th>UnitPrice</th>\n",
       "      <th>Quantity</th>\n",
       "      <th>Subtotal</th>\n",
       "      <th>Tax(8%)</th>\n",
       "      <th>OrderTotal</th>\n",
       "    </tr>\n",
       "  </thead>\n",
       "  <tbody>\n",
       "    <tr>\n",
       "      <th>0</th>\n",
       "      <td>10258</td>\n",
       "      <td>1</td>\n",
       "      <td>7/17/2023</td>\n",
       "      <td>Nancy Davolio</td>\n",
       "      <td>32</td>\n",
       "      <td>Mascarpone Fabioli</td>\n",
       "      <td>14</td>\n",
       "      <td>Formaggi Fortini s.r.l.</td>\n",
       "      <td>25.6</td>\n",
       "      <td>6</td>\n",
       "      <td>153.6</td>\n",
       "      <td>12.29</td>\n",
       "      <td>165.89</td>\n",
       "    </tr>\n",
       "    <tr>\n",
       "      <th>1</th>\n",
       "      <td>10275</td>\n",
       "      <td>2</td>\n",
       "      <td>8/7/2023</td>\n",
       "      <td>Nancy Davolio</td>\n",
       "      <td>24</td>\n",
       "      <td>Guaran Fantstica</td>\n",
       "      <td>10</td>\n",
       "      <td>Refrescos Americanas LTDA</td>\n",
       "      <td>3.6</td>\n",
       "      <td>12</td>\n",
       "      <td>43.2</td>\n",
       "      <td>3.46</td>\n",
       "      <td>46.66</td>\n",
       "    </tr>\n",
       "    <tr>\n",
       "      <th>2</th>\n",
       "      <td>10275</td>\n",
       "      <td>2</td>\n",
       "      <td>8/7/2023</td>\n",
       "      <td>Nancy Davolio</td>\n",
       "      <td>59</td>\n",
       "      <td>Raclette Courdavault</td>\n",
       "      <td>28</td>\n",
       "      <td>Gai pturage</td>\n",
       "      <td>44.0</td>\n",
       "      <td>6</td>\n",
       "      <td>264.0</td>\n",
       "      <td>21.12</td>\n",
       "      <td>285.12</td>\n",
       "    </tr>\n",
       "    <tr>\n",
       "      <th>3</th>\n",
       "      <td>10292</td>\n",
       "      <td>3</td>\n",
       "      <td>8/28/2023</td>\n",
       "      <td>Nancy Davolio</td>\n",
       "      <td>20</td>\n",
       "      <td>Sir Rodney's Marmalade</td>\n",
       "      <td>8</td>\n",
       "      <td>Specialty Biscuits, Ltd.</td>\n",
       "      <td>64.8</td>\n",
       "      <td>20</td>\n",
       "      <td>1296.0</td>\n",
       "      <td>103.68</td>\n",
       "      <td>1399.68</td>\n",
       "    </tr>\n",
       "    <tr>\n",
       "      <th>4</th>\n",
       "      <td>10293</td>\n",
       "      <td>4</td>\n",
       "      <td>8/29/2023</td>\n",
       "      <td>Nancy Davolio</td>\n",
       "      <td>18</td>\n",
       "      <td>Carnarvon Tigers</td>\n",
       "      <td>7</td>\n",
       "      <td>Pavlova, Ltd.</td>\n",
       "      <td>50.0</td>\n",
       "      <td>12</td>\n",
       "      <td>600.0</td>\n",
       "      <td>48.00</td>\n",
       "      <td>648.00</td>\n",
       "    </tr>\n",
       "    <tr>\n",
       "      <th>5</th>\n",
       "      <td>10293</td>\n",
       "      <td>4</td>\n",
       "      <td>8/29/2023</td>\n",
       "      <td>Nancy Davolio</td>\n",
       "      <td>24</td>\n",
       "      <td>Guaran Fantstica</td>\n",
       "      <td>10</td>\n",
       "      <td>Refrescos Americanas LTDA</td>\n",
       "      <td>3.6</td>\n",
       "      <td>10</td>\n",
       "      <td>36.0</td>\n",
       "      <td>2.88</td>\n",
       "      <td>38.88</td>\n",
       "    </tr>\n",
       "    <tr>\n",
       "      <th>6</th>\n",
       "      <td>10293</td>\n",
       "      <td>4</td>\n",
       "      <td>8/29/2023</td>\n",
       "      <td>Nancy Davolio</td>\n",
       "      <td>63</td>\n",
       "      <td>Vegie-spread</td>\n",
       "      <td>7</td>\n",
       "      <td>Pavlova, Ltd.</td>\n",
       "      <td>35.1</td>\n",
       "      <td>5</td>\n",
       "      <td>175.5</td>\n",
       "      <td>14.04</td>\n",
       "      <td>189.54</td>\n",
       "    </tr>\n",
       "    <tr>\n",
       "      <th>7</th>\n",
       "      <td>10293</td>\n",
       "      <td>4</td>\n",
       "      <td>8/29/2023</td>\n",
       "      <td>Nancy Davolio</td>\n",
       "      <td>75</td>\n",
       "      <td>Rhnbru Klosterbier</td>\n",
       "      <td>12</td>\n",
       "      <td>Plutzer Lebensmittelgromrkte AG</td>\n",
       "      <td>6.2</td>\n",
       "      <td>6</td>\n",
       "      <td>37.2</td>\n",
       "      <td>2.98</td>\n",
       "      <td>40.18</td>\n",
       "    </tr>\n",
       "    <tr>\n",
       "      <th>8</th>\n",
       "      <td>10304</td>\n",
       "      <td>4</td>\n",
       "      <td>9/12/2023</td>\n",
       "      <td>Nancy Davolio</td>\n",
       "      <td>59</td>\n",
       "      <td>Raclette Courdavault</td>\n",
       "      <td>28</td>\n",
       "      <td>Gai pturage</td>\n",
       "      <td>44.0</td>\n",
       "      <td>10</td>\n",
       "      <td>440.0</td>\n",
       "      <td>35.20</td>\n",
       "      <td>475.20</td>\n",
       "    </tr>\n",
       "    <tr>\n",
       "      <th>9</th>\n",
       "      <td>10304</td>\n",
       "      <td>4</td>\n",
       "      <td>9/12/2023</td>\n",
       "      <td>Nancy Davolio</td>\n",
       "      <td>71</td>\n",
       "      <td>Flotemysost</td>\n",
       "      <td>15</td>\n",
       "      <td>Norske Meierier</td>\n",
       "      <td>17.2</td>\n",
       "      <td>2</td>\n",
       "      <td>34.4</td>\n",
       "      <td>2.75</td>\n",
       "      <td>37.15</td>\n",
       "    </tr>\n",
       "  </tbody>\n",
       "</table>\n",
       "</div>"
      ],
      "text/plain": [
       "   TransactionID  CustID       Date       Employee  ProductID  \\\n",
       "0          10258       1  7/17/2023  Nancy Davolio         32   \n",
       "1          10275       2   8/7/2023  Nancy Davolio         24   \n",
       "2          10275       2   8/7/2023  Nancy Davolio         59   \n",
       "3          10292       3  8/28/2023  Nancy Davolio         20   \n",
       "4          10293       4  8/29/2023  Nancy Davolio         18   \n",
       "5          10293       4  8/29/2023  Nancy Davolio         24   \n",
       "6          10293       4  8/29/2023  Nancy Davolio         63   \n",
       "7          10293       4  8/29/2023  Nancy Davolio         75   \n",
       "8          10304       4  9/12/2023  Nancy Davolio         59   \n",
       "9          10304       4  9/12/2023  Nancy Davolio         71   \n",
       "\n",
       "              ProductName  VendorID                    ProductVendor  \\\n",
       "0      Mascarpone Fabioli        14          Formaggi Fortini s.r.l.   \n",
       "1        Guaran Fantstica        10        Refrescos Americanas LTDA   \n",
       "2    Raclette Courdavault        28                      Gai pturage   \n",
       "3  Sir Rodney's Marmalade         8         Specialty Biscuits, Ltd.   \n",
       "4        Carnarvon Tigers         7                    Pavlova, Ltd.   \n",
       "5        Guaran Fantstica        10        Refrescos Americanas LTDA   \n",
       "6            Vegie-spread         7                    Pavlova, Ltd.   \n",
       "7      Rhnbru Klosterbier        12  Plutzer Lebensmittelgromrkte AG   \n",
       "8    Raclette Courdavault        28                      Gai pturage   \n",
       "9             Flotemysost        15                  Norske Meierier   \n",
       "\n",
       "   UnitPrice  Quantity  Subtotal  Tax(8%)  OrderTotal  \n",
       "0       25.6         6     153.6    12.29      165.89  \n",
       "1        3.6        12      43.2     3.46       46.66  \n",
       "2       44.0         6     264.0    21.12      285.12  \n",
       "3       64.8        20    1296.0   103.68     1399.68  \n",
       "4       50.0        12     600.0    48.00      648.00  \n",
       "5        3.6        10      36.0     2.88       38.88  \n",
       "6       35.1         5     175.5    14.04      189.54  \n",
       "7        6.2         6      37.2     2.98       40.18  \n",
       "8       44.0        10     440.0    35.20      475.20  \n",
       "9       17.2         2      34.4     2.75       37.15  "
      ]
     },
     "execution_count": 2,
     "metadata": {},
     "output_type": "execute_result"
    }
   ],
   "source": [
    "df.head(10)"
   ]
  },
  {
   "cell_type": "markdown",
   "id": "647c983f-aa42-4f40-a522-116d972c198c",
   "metadata": {},
   "source": [
    "## Displays the Top 8 Statistical Metrics of file"
   ]
  },
  {
   "cell_type": "raw",
   "id": "188e6b0f-ff4d-46ac-be31-60bf0913011a",
   "metadata": {},
   "source": [
    "The describe() function generates key metrics for numerical columns, including count, mean, standard deviation, min, and max values \n",
    "Round() rounds the ouputs of descrive to the 100ths palce."
   ]
  },
  {
   "cell_type": "code",
   "execution_count": 3,
   "id": "31b02e02-ea54-400f-ae28-337bf38554df",
   "metadata": {},
   "outputs": [
    {
     "data": {
      "text/html": [
       "<div>\n",
       "<style scoped>\n",
       "    .dataframe tbody tr th:only-of-type {\n",
       "        vertical-align: middle;\n",
       "    }\n",
       "\n",
       "    .dataframe tbody tr th {\n",
       "        vertical-align: top;\n",
       "    }\n",
       "\n",
       "    .dataframe thead th {\n",
       "        text-align: right;\n",
       "    }\n",
       "</style>\n",
       "<table border=\"1\" class=\"dataframe\">\n",
       "  <thead>\n",
       "    <tr style=\"text-align: right;\">\n",
       "      <th></th>\n",
       "      <th>UnitPrice</th>\n",
       "      <th>Quantity</th>\n",
       "      <th>Subtotal</th>\n",
       "      <th>Tax(8%)</th>\n",
       "      <th>OrderTotal</th>\n",
       "    </tr>\n",
       "  </thead>\n",
       "  <tbody>\n",
       "    <tr>\n",
       "      <th>count</th>\n",
       "      <td>1353.00</td>\n",
       "      <td>1353.00</td>\n",
       "      <td>1353.00</td>\n",
       "      <td>1353.00</td>\n",
       "      <td>1353.00</td>\n",
       "    </tr>\n",
       "    <tr>\n",
       "      <th>mean</th>\n",
       "      <td>25.91</td>\n",
       "      <td>12.63</td>\n",
       "      <td>324.54</td>\n",
       "      <td>25.96</td>\n",
       "      <td>350.50</td>\n",
       "    </tr>\n",
       "    <tr>\n",
       "      <th>std</th>\n",
       "      <td>28.61</td>\n",
       "      <td>6.40</td>\n",
       "      <td>403.98</td>\n",
       "      <td>32.32</td>\n",
       "      <td>436.30</td>\n",
       "    </tr>\n",
       "    <tr>\n",
       "      <th>min</th>\n",
       "      <td>2.00</td>\n",
       "      <td>1.00</td>\n",
       "      <td>4.80</td>\n",
       "      <td>0.38</td>\n",
       "      <td>5.18</td>\n",
       "    </tr>\n",
       "    <tr>\n",
       "      <th>25%</th>\n",
       "      <td>12.00</td>\n",
       "      <td>7.00</td>\n",
       "      <td>100.00</td>\n",
       "      <td>8.00</td>\n",
       "      <td>108.00</td>\n",
       "    </tr>\n",
       "    <tr>\n",
       "      <th>50%</th>\n",
       "      <td>18.40</td>\n",
       "      <td>12.00</td>\n",
       "      <td>210.00</td>\n",
       "      <td>16.80</td>\n",
       "      <td>226.80</td>\n",
       "    </tr>\n",
       "    <tr>\n",
       "      <th>75%</th>\n",
       "      <td>31.23</td>\n",
       "      <td>20.00</td>\n",
       "      <td>394.00</td>\n",
       "      <td>31.52</td>\n",
       "      <td>425.52</td>\n",
       "    </tr>\n",
       "    <tr>\n",
       "      <th>max</th>\n",
       "      <td>263.50</td>\n",
       "      <td>24.00</td>\n",
       "      <td>4216.00</td>\n",
       "      <td>337.28</td>\n",
       "      <td>4553.28</td>\n",
       "    </tr>\n",
       "  </tbody>\n",
       "</table>\n",
       "</div>"
      ],
      "text/plain": [
       "       UnitPrice  Quantity  Subtotal  Tax(8%)  OrderTotal\n",
       "count    1353.00   1353.00   1353.00  1353.00     1353.00\n",
       "mean       25.91     12.63    324.54    25.96      350.50\n",
       "std        28.61      6.40    403.98    32.32      436.30\n",
       "min         2.00      1.00      4.80     0.38        5.18\n",
       "25%        12.00      7.00    100.00     8.00      108.00\n",
       "50%        18.40     12.00    210.00    16.80      226.80\n",
       "75%        31.23     20.00    394.00    31.52      425.52\n",
       "max       263.50     24.00   4216.00   337.28     4553.28"
      ]
     },
     "execution_count": 3,
     "metadata": {},
     "output_type": "execute_result"
    }
   ],
   "source": [
    "df[['UnitPrice', 'Quantity', 'Subtotal', 'Tax(8%)', 'OrderTotal']].describe().round(2)"
   ]
  },
  {
   "cell_type": "markdown",
   "id": "26948dab-97cf-4cb2-9212-556b26a626ff",
   "metadata": {},
   "source": [
    "## Top 10 Most Frequent Transaction Days"
   ]
  },
  {
   "cell_type": "markdown",
   "id": "8237552e-3c19-40d5-98e6-50b0fcf71f13",
   "metadata": {},
   "source": [
    "### This analysis is useful for identifying peak transaction days, which could help in planning resources, managing staff, or preparing for future high-transaction days."
   ]
  },
  {
   "cell_type": "markdown",
   "id": "3ce2f013-2a0e-45ce-98c4-14bb16ae7771",
   "metadata": {},
   "source": [
    "**Counts the total number of transactions by day**"
   ]
  },
  {
   "cell_type": "code",
   "execution_count": 4,
   "id": "aa815e9a-878e-44c1-8d6d-1dcf40cd3f9a",
   "metadata": {},
   "outputs": [
    {
     "data": {
      "text/plain": [
       "Date\n",
       "5/6/2025      31\n",
       "2/26/2025     12\n",
       "4/3/2025       8\n",
       "5/5/2025       8\n",
       "3/26/2025      8\n",
       "1/13/2025      8\n",
       "1/14/2025      8\n",
       "12/30/2024     7\n",
       "1/15/2025      7\n",
       "8/27/2023      7\n",
       "Name: count, dtype: int64"
      ]
     },
     "execution_count": 4,
     "metadata": {},
     "output_type": "execute_result"
    }
   ],
   "source": [
    "top_transaction_days = df['Date'].value_counts().head(10)\n",
    "top_transaction_days"
   ]
  },
  {
   "cell_type": "markdown",
   "id": "97b5c432-9a73-408b-9ed6-71d6905cc612",
   "metadata": {},
   "source": [
    "## Top 10 months with the highest average transactions"
   ]
  },
  {
   "cell_type": "markdown",
   "id": "0b5dd6e1-f6d9-4ef9-95e9-10b82b6dffc1",
   "metadata": {},
   "source": [
    "### This analysis is useful for identifying peak months in sales performance or customer spending trends."
   ]
  },
  {
   "cell_type": "markdown",
   "id": "73acfadf-2b64-42bd-a614-0d92a9d72be1",
   "metadata": {},
   "source": [
    "**Convert the Date Column to Datetime Format**"
   ]
  },
  {
   "cell_type": "code",
   "execution_count": 5,
   "id": "70ccfbd0-275b-44e9-93a2-d79b9f4aa25e",
   "metadata": {},
   "outputs": [],
   "source": [
    "df['Date'] = pd.to_datetime(df['Date'])"
   ]
  },
  {
   "cell_type": "markdown",
   "id": "aee10ba7-33d3-4491-a66d-de0df9e97376",
   "metadata": {},
   "source": [
    "**Calculate the Monthly Average Transaction Totals**"
   ]
  },
  {
   "cell_type": "code",
   "execution_count": 6,
   "id": "2d5d9372-d454-4796-aafe-adb844cc6113",
   "metadata": {},
   "outputs": [],
   "source": [
    "monthly_avg_transaction = df.resample('ME', on='Date')['OrderTotal'].mean()"
   ]
  },
  {
   "cell_type": "markdown",
   "id": "b1e77754-7c9c-4435-b24c-167bf429451c",
   "metadata": {},
   "source": [
    "**Find the Top 10 Months with the Highest Average Transaction Totals**"
   ]
  },
  {
   "cell_type": "code",
   "execution_count": 7,
   "id": "29191bf6-591f-49cb-bc13-bf948a7b0756",
   "metadata": {},
   "outputs": [],
   "source": [
    "top_10_months = monthly_avg_transaction.sort_values(ascending=False).head(10)"
   ]
  },
  {
   "cell_type": "code",
   "execution_count": 8,
   "id": "4c79d377-1231-452c-866a-906c85b5cecd",
   "metadata": {},
   "outputs": [
    {
     "name": "stdout",
     "output_type": "stream",
     "text": [
      "Date\n",
      "2024-12-31    448.513919\n",
      "2024-08-31    418.735000\n",
      "2024-07-31    417.017917\n",
      "2024-09-30    407.451071\n",
      "2023-11-30    398.351026\n",
      "2024-06-30    390.779804\n",
      "2023-12-31    386.296531\n",
      "2024-11-30    364.035714\n",
      "2025-04-30    362.808302\n",
      "2025-01-31    361.146633\n",
      "Name: OrderTotal, dtype: float64\n"
     ]
    }
   ],
   "source": [
    "print(top_10_months) "
   ]
  },
  {
   "cell_type": "markdown",
   "id": "5e173d9e-b3ab-4477-bbb2-49169486c1e9",
   "metadata": {},
   "source": [
    "## Average Transaction Amount by Category"
   ]
  },
  {
   "cell_type": "markdown",
   "id": "0c7d8f23-6faa-4dc7-ab8f-4c27bf175ef8",
   "metadata": {},
   "source": [
    "### This analysis helps identify which products tend to generate the highest transaction totals on average, useful for optimizing inventory, pricing, or promotions for those top-performing products."
   ]
  },
  {
   "cell_type": "markdown",
   "id": "d5def6b7-4143-40cb-aee9-b0d2afa372b3",
   "metadata": {},
   "source": [
    "**Calculate the Average Transaction Total per Product Category**"
   ]
  },
  {
   "cell_type": "code",
   "execution_count": 9,
   "id": "e5e89e4a-d6f1-4f25-95e3-f9b25b0110d3",
   "metadata": {},
   "outputs": [],
   "source": [
    "avg_transaction_per_category = df.groupby('ProductName')['OrderTotal'].mean()"
   ]
  },
  {
   "cell_type": "markdown",
   "id": "0af62113-6e78-4ffa-ba99-3b3208c59441",
   "metadata": {},
   "source": [
    "**Find the Top 10 Product Categories with the Highest Average Transaction Totals**"
   ]
  },
  {
   "cell_type": "code",
   "execution_count": 10,
   "id": "28ede270-fe50-4030-acee-c283c737e65f",
   "metadata": {},
   "outputs": [
    {
     "data": {
      "text/plain": [
       "ProductName\n",
       "Cte de Blaye                  2822.085000\n",
       "Thringer Rostbratwurst        1736.659130\n",
       "Sir Rodney's Marmalade        1081.835833\n",
       "Mishi Kobe Niku               1073.790000\n",
       "Carnarvon Tigers               817.147059\n",
       "Manjimup Dried Apples          677.633846\n",
       "Ipoh Coffee                    633.289474\n",
       "Northwoods Cranberry Sauce     629.485714\n",
       "Raclette Courdavault           610.280000\n",
       "Tarte au sucre                 608.921290\n",
       "Name: OrderTotal, dtype: float64"
      ]
     },
     "execution_count": 10,
     "metadata": {},
     "output_type": "execute_result"
    }
   ],
   "source": [
    "top_categories = avg_transaction_per_category.sort_values(ascending=False).head(10)\n",
    "top_categories "
   ]
  },
  {
   "cell_type": "markdown",
   "id": "57c73514-ab29-4043-8163-90ae87fdf8ff",
   "metadata": {},
   "source": [
    "## Customer Transaction Count and Total Spending"
   ]
  },
  {
   "cell_type": "markdown",
   "id": "00566344-f70d-4fe1-8abe-57eba24e2fe7",
   "metadata": {},
   "source": [
    "### This summary is useful for identifying the highest-spending customers, which can inform marketing strategies, loyalty programs, or customer relationship management initiatives."
   ]
  },
  {
   "cell_type": "markdown",
   "id": "5018ce00-be26-476a-9513-96001307d7b4",
   "metadata": {},
   "source": [
    "**Group the Data by Customer ID**"
   ]
  },
  {
   "cell_type": "code",
   "execution_count": 11,
   "id": "9b529193-78f1-4ac3-8699-cb136c29b028",
   "metadata": {},
   "outputs": [
    {
     "data": {
      "text/html": [
       "<div>\n",
       "<style scoped>\n",
       "    .dataframe tbody tr th:only-of-type {\n",
       "        vertical-align: middle;\n",
       "    }\n",
       "\n",
       "    .dataframe tbody tr th {\n",
       "        vertical-align: top;\n",
       "    }\n",
       "\n",
       "    .dataframe thead th {\n",
       "        text-align: right;\n",
       "    }\n",
       "</style>\n",
       "<table border=\"1\" class=\"dataframe\">\n",
       "  <thead>\n",
       "    <tr style=\"text-align: right;\">\n",
       "      <th></th>\n",
       "      <th>total_transactions</th>\n",
       "      <th>total_spend</th>\n",
       "    </tr>\n",
       "    <tr>\n",
       "      <th>CustID</th>\n",
       "      <th></th>\n",
       "      <th></th>\n",
       "    </tr>\n",
       "  </thead>\n",
       "  <tbody>\n",
       "    <tr>\n",
       "      <th>27</th>\n",
       "      <td>37</td>\n",
       "      <td>16291.91</td>\n",
       "    </tr>\n",
       "    <tr>\n",
       "      <th>1</th>\n",
       "      <td>31</td>\n",
       "      <td>16253.45</td>\n",
       "    </tr>\n",
       "    <tr>\n",
       "      <th>17</th>\n",
       "      <td>34</td>\n",
       "      <td>13460.68</td>\n",
       "    </tr>\n",
       "    <tr>\n",
       "      <th>15</th>\n",
       "      <td>19</td>\n",
       "      <td>13234.00</td>\n",
       "    </tr>\n",
       "    <tr>\n",
       "      <th>80</th>\n",
       "      <td>26</td>\n",
       "      <td>12985.40</td>\n",
       "    </tr>\n",
       "    <tr>\n",
       "      <th>9</th>\n",
       "      <td>30</td>\n",
       "      <td>12348.12</td>\n",
       "    </tr>\n",
       "    <tr>\n",
       "      <th>59</th>\n",
       "      <td>21</td>\n",
       "      <td>12111.98</td>\n",
       "    </tr>\n",
       "    <tr>\n",
       "      <th>4</th>\n",
       "      <td>26</td>\n",
       "      <td>10611.17</td>\n",
       "    </tr>\n",
       "    <tr>\n",
       "      <th>8</th>\n",
       "      <td>24</td>\n",
       "      <td>10443.49</td>\n",
       "    </tr>\n",
       "    <tr>\n",
       "      <th>58</th>\n",
       "      <td>19</td>\n",
       "      <td>9445.89</td>\n",
       "    </tr>\n",
       "  </tbody>\n",
       "</table>\n",
       "</div>"
      ],
      "text/plain": [
       "        total_transactions  total_spend\n",
       "CustID                                 \n",
       "27                      37     16291.91\n",
       "1                       31     16253.45\n",
       "17                      34     13460.68\n",
       "15                      19     13234.00\n",
       "80                      26     12985.40\n",
       "9                       30     12348.12\n",
       "59                      21     12111.98\n",
       "4                       26     10611.17\n",
       "8                       24     10443.49\n",
       "58                      19      9445.89"
      ]
     },
     "execution_count": 11,
     "metadata": {},
     "output_type": "execute_result"
    }
   ],
   "source": [
    "customer_summary = df.groupby('CustID').agg(\n",
    "    total_transactions = ('OrderTotal', 'count'),\n",
    "    total_spend = ('OrderTotal', 'sum') # Aggregate Data: Calculate Total Transactions and Total Spend per Customer\n",
    "\n",
    ").sort_values(by='total_spend', ascending=False).head(10) #Sort by Total Spend in Descending Order\n",
    "\n",
    "customer_summary"
   ]
  },
  {
   "cell_type": "markdown",
   "id": "8652654f-1275-42ec-8d6a-88fe28c13dc3",
   "metadata": {},
   "source": [
    "## Customer Transaction Count and Total Spending with Employee Recognition!"
   ]
  },
  {
   "cell_type": "markdown",
   "id": "2f1f7215-6547-4f61-88e0-3b37e592dcd5",
   "metadata": {},
   "source": [
    "### This Analysis provides valuable insights for customer and employee relationship management:"
   ]
  },
  {
   "cell_type": "markdown",
   "id": "1b9b6fdf-5166-4b96-9cd9-9fc2f8916350",
   "metadata": {},
   "source": [
    "**Identify Top Customers, Employee-Customer Relationships, and Sales and Service Optimization**"
   ]
  },
  {
   "cell_type": "code",
   "execution_count": 12,
   "id": "675a6f33-2c4a-4c04-9120-e9e3f50228e5",
   "metadata": {
    "scrolled": true
   },
   "outputs": [
    {
     "data": {
      "text/html": [
       "<div>\n",
       "<style scoped>\n",
       "    .dataframe tbody tr th:only-of-type {\n",
       "        vertical-align: middle;\n",
       "    }\n",
       "\n",
       "    .dataframe tbody tr th {\n",
       "        vertical-align: top;\n",
       "    }\n",
       "\n",
       "    .dataframe thead th {\n",
       "        text-align: right;\n",
       "    }\n",
       "</style>\n",
       "<table border=\"1\" class=\"dataframe\">\n",
       "  <thead>\n",
       "    <tr style=\"text-align: right;\">\n",
       "      <th></th>\n",
       "      <th>total_transactions</th>\n",
       "      <th>total_spend</th>\n",
       "      <th>top_employee_by_transactions</th>\n",
       "      <th>top_employee_by_spend</th>\n",
       "    </tr>\n",
       "    <tr>\n",
       "      <th>CustID</th>\n",
       "      <th></th>\n",
       "      <th></th>\n",
       "      <th></th>\n",
       "      <th></th>\n",
       "    </tr>\n",
       "  </thead>\n",
       "  <tbody>\n",
       "    <tr>\n",
       "      <th>27</th>\n",
       "      <td>37</td>\n",
       "      <td>16291.91</td>\n",
       "      <td>Janet Leverling</td>\n",
       "      <td>Steven Buchanan</td>\n",
       "    </tr>\n",
       "    <tr>\n",
       "      <th>1</th>\n",
       "      <td>31</td>\n",
       "      <td>16253.45</td>\n",
       "      <td>Margaret Peacock</td>\n",
       "      <td>Robert King</td>\n",
       "    </tr>\n",
       "    <tr>\n",
       "      <th>17</th>\n",
       "      <td>34</td>\n",
       "      <td>13460.68</td>\n",
       "      <td>Michael Suyama</td>\n",
       "      <td>Steven Buchanan</td>\n",
       "    </tr>\n",
       "    <tr>\n",
       "      <th>15</th>\n",
       "      <td>19</td>\n",
       "      <td>13234.00</td>\n",
       "      <td>Laura Callahan</td>\n",
       "      <td>Robert King</td>\n",
       "    </tr>\n",
       "    <tr>\n",
       "      <th>80</th>\n",
       "      <td>26</td>\n",
       "      <td>12985.40</td>\n",
       "      <td>Margaret Peacock</td>\n",
       "      <td>Robert King</td>\n",
       "    </tr>\n",
       "    <tr>\n",
       "      <th>9</th>\n",
       "      <td>30</td>\n",
       "      <td>12348.12</td>\n",
       "      <td>Margaret Peacock</td>\n",
       "      <td>Steven Buchanan</td>\n",
       "    </tr>\n",
       "    <tr>\n",
       "      <th>59</th>\n",
       "      <td>21</td>\n",
       "      <td>12111.98</td>\n",
       "      <td>Janet Leverling</td>\n",
       "      <td>Nancy Davolio</td>\n",
       "    </tr>\n",
       "    <tr>\n",
       "      <th>4</th>\n",
       "      <td>26</td>\n",
       "      <td>10611.17</td>\n",
       "      <td>Nancy Davolio</td>\n",
       "      <td>Robert King</td>\n",
       "    </tr>\n",
       "    <tr>\n",
       "      <th>8</th>\n",
       "      <td>24</td>\n",
       "      <td>10443.49</td>\n",
       "      <td>Nancy Davolio</td>\n",
       "      <td>Nancy Davolio</td>\n",
       "    </tr>\n",
       "    <tr>\n",
       "      <th>58</th>\n",
       "      <td>19</td>\n",
       "      <td>9445.89</td>\n",
       "      <td>Michael Suyama</td>\n",
       "      <td>Nancy Davolio</td>\n",
       "    </tr>\n",
       "  </tbody>\n",
       "</table>\n",
       "</div>"
      ],
      "text/plain": [
       "        total_transactions  total_spend top_employee_by_transactions  \\\n",
       "CustID                                                                 \n",
       "27                      37     16291.91              Janet Leverling   \n",
       "1                       31     16253.45             Margaret Peacock   \n",
       "17                      34     13460.68               Michael Suyama   \n",
       "15                      19     13234.00               Laura Callahan   \n",
       "80                      26     12985.40             Margaret Peacock   \n",
       "9                       30     12348.12             Margaret Peacock   \n",
       "59                      21     12111.98              Janet Leverling   \n",
       "4                       26     10611.17                Nancy Davolio   \n",
       "8                       24     10443.49                Nancy Davolio   \n",
       "58                      19      9445.89               Michael Suyama   \n",
       "\n",
       "       top_employee_by_spend  \n",
       "CustID                        \n",
       "27           Steven Buchanan  \n",
       "1                Robert King  \n",
       "17           Steven Buchanan  \n",
       "15               Robert King  \n",
       "80               Robert King  \n",
       "9            Steven Buchanan  \n",
       "59             Nancy Davolio  \n",
       "4                Robert King  \n",
       "8              Nancy Davolio  \n",
       "58             Nancy Davolio  "
      ]
     },
     "execution_count": 12,
     "metadata": {},
     "output_type": "execute_result"
    }
   ],
   "source": [
    "customer_summary = df.groupby('CustID').agg(\n",
    "    total_transactions=('OrderTotal', 'count'),\n",
    "    total_spend=('OrderTotal', 'sum'),\n",
    "    top_employee_by_transactions=('Employee', lambda x: x.mode()[0]),\n",
    "    top_employee_by_spend=('Employee', lambda x: x.loc[x.idxmax()])\n",
    ").sort_values(by='total_spend', ascending=False).head(10)\n",
    "customer_summary"
   ]
  },
  {
   "cell_type": "markdown",
   "id": "dbad2857-e869-4085-a036-371a9f3aeb27",
   "metadata": {},
   "source": [
    "## Pie Chart of Top 10 Transactions by Category\n",
    "\n",
    "### Visualizes the proportion of transactions by the Top 10 cateogories"
   ]
  },
  {
   "cell_type": "markdown",
   "id": "5514a5ed-6a8f-4c1b-b808-d9006546bbcf",
   "metadata": {},
   "source": [
    "### Quick insights into which categories are performing well and assisting in strategic decision-making related to product focus, marketing, and customer targeting."
   ]
  },
  {
   "cell_type": "code",
   "execution_count": 13,
   "id": "9ece8468-0559-4047-9741-4d2cfb1984be",
   "metadata": {},
   "outputs": [
    {
     "data": {
      "image/png": "[encoded data removed]",
      "text/plain": [
       "<Figure size 800x800 with 1 Axes>"
      ]
     },
     "metadata": {},
     "output_type": "display_data"
    }
   ],
   "source": [
    "top_categories.plot(kind='pie', autopct='%1.1f%%', startangle=140, figsize=(8, 8))\n",
    "plt.title(\"Transactions by Category\")\n",
    "plt.ylabel('')\n",
    "plt.show()"
   ]
  },
  {
   "cell_type": "markdown",
   "id": "f5962544-7145-49a0-ace9-920c76796ea8",
   "metadata": {},
   "source": [
    "## Line Plot: Average Monthly Vender Spending\n",
    "\n",
    "### Shows trends in average monthly transaction amounts over time"
   ]
  },
  {
   "cell_type": "markdown",
   "id": "c938718b-3c5d-45a0-891d-818c02856b00",
   "metadata": {},
   "source": [
    "### Provides insights into customer behavior and business performance and is a powerful tool for monitoring trends, identifying opportunities or concerns"
   ]
  },
  {
   "cell_type": "code",
   "execution_count": 14,
   "id": "d5ba8113-545a-41c2-8fe9-830c1ae5004a",
   "metadata": {},
   "outputs": [
    {
     "data": {
      "image/png": "[encoded data removed]",
      "text/plain": [
       "<Figure size 640x480 with 1 Axes>"
      ]
     },
     "metadata": {},
     "output_type": "display_data"
    }
   ],
   "source": [
    "monthly_avg_transaction.plot(kind='line', marker='o', color='purple')\n",
    "plt.title(\"Average Monthly Transaction Amount\")\n",
    "plt.xlabel(\"Month\")\n",
    "plt.ylabel(\"Average Transaction Amount\")\n",
    "plt.show()"
   ]
  },
  {
   "cell_type": "code",
   "execution_count": null,
   "id": "226f3c45-5ed7-4671-8337-e238a65d1856",
   "metadata": {},
   "outputs": [],
   "source": []
  }
 ],
 "metadata": {
  "kernelspec": {
   "display_name": "Python 3 (ipykernel)",
   "language": "python",
   "name": "python3"
  },
  "language_info": {
   "codemirror_mode": {
    "name": "ipython",
    "version": 3
   },
   "file_extension": ".py",
   "mimetype": "text/x-python",
   "name": "python",
   "nbconvert_exporter": "python",
   "pygments_lexer": "ipython3",
   "version": "3.12.3"
  }
 },
 "nbformat": 4,
 "nbformat_minor": 5
}
