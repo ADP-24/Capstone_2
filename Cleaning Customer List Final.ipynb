{
 "cells": [
  {
   "cell_type": "markdown",
   "id": "9a1af23b-8f86-415f-8627-2363a6de3bdb",
   "metadata": {},
   "source": [
    "# Cleaning Customer List - With User input that adds to the DataFrame!"
   ]
  },
  {
   "cell_type": "markdown",
   "id": "7b60cc70-888c-4b6c-85a9-360433b84f4a",
   "metadata": {},
   "source": [
    "## First things first import my libraries"
   ]
  },
  {
   "cell_type": "code",
   "execution_count": 1,
   "id": "492bcace-1b19-40ae-912e-a597432b005e",
   "metadata": {},
   "outputs": [],
   "source": [
    "import pandas as pd\n",
    "from datetime import datetime"
   ]
  },
  {
   "cell_type": "markdown",
   "id": "455dd4bd-bb4d-48ff-b5c8-d1f6e97a4307",
   "metadata": {},
   "source": [
    "## Convert my CSV file into a DataFrame"
   ]
  },
  {
   "cell_type": "code",
   "execution_count": 2,
   "id": "c4c8d877-b440-42e5-868b-e5ceed7725c8",
   "metadata": {},
   "outputs": [],
   "source": [
    "df = pd.read_csv('customer_list_updated.csv', delimiter='|')\n",
    "\n",
    "df.columns = df.columns.str.strip()\n",
    "\n",
    "columns = ['cust_id', 'date', 'time', 'name', 'email', 'phone', 'sms-opt-out']"
   ]
  },
  {
   "cell_type": "raw",
   "id": "67234a29-8e91-40d2-bee2-601b7112f461",
   "metadata": {},
   "source": [
    "Above code removes whitespaces and defines column names for reference."
   ]
  },
  {
   "cell_type": "code",
   "execution_count": 3,
   "id": "79b75f01-6a9b-4748-b0b8-4720b01607f0",
   "metadata": {},
   "outputs": [
    {
     "data": {
      "text/html": [
       "<div>\n",
       "<style scoped>\n",
       "    .dataframe tbody tr th:only-of-type {\n",
       "        vertical-align: middle;\n",
       "    }\n",
       "\n",
       "    .dataframe tbody tr th {\n",
       "        vertical-align: top;\n",
       "    }\n",
       "\n",
       "    .dataframe thead th {\n",
       "        text-align: right;\n",
       "    }\n",
       "</style>\n",
       "<table border=\"1\" class=\"dataframe\">\n",
       "  <thead>\n",
       "    <tr style=\"text-align: right;\">\n",
       "      <th></th>\n",
       "      <th>cust_id</th>\n",
       "      <th>date</th>\n",
       "      <th>time</th>\n",
       "      <th>name</th>\n",
       "      <th>email</th>\n",
       "      <th>phone</th>\n",
       "      <th>sms-opt-out</th>\n",
       "    </tr>\n",
       "  </thead>\n",
       "  <tbody>\n",
       "    <tr>\n",
       "      <th>0</th>\n",
       "      <td>1</td>\n",
       "      <td>2023-03-15</td>\n",
       "      <td>08:45:12</td>\n",
       "      <td>Rachel</td>\n",
       "      <td>rachel@centralperk.coffee</td>\n",
       "      <td>212-555-1001</td>\n",
       "      <td>N</td>\n",
       "    </tr>\n",
       "    <tr>\n",
       "      <th>1</th>\n",
       "      <td>2</td>\n",
       "      <td>2023-05-22</td>\n",
       "      <td>12:30:45</td>\n",
       "      <td>R&amp;! Geller</td>\n",
       "      <td>rossg@centralperk.coffee</td>\n",
       "      <td>212-555-1002</td>\n",
       "      <td>N</td>\n",
       "    </tr>\n",
       "    <tr>\n",
       "      <th>2</th>\n",
       "      <td>3</td>\n",
       "      <td>2023-07-09</td>\n",
       "      <td>18:15:27</td>\n",
       "      <td>Monica Geller</td>\n",
       "      <td>chefmonica@centralperk.coffee</td>\n",
       "      <td>212-555-1003</td>\n",
       "      <td>N</td>\n",
       "    </tr>\n",
       "    <tr>\n",
       "      <th>3</th>\n",
       "      <td>4</td>\n",
       "      <td>2023-09-01</td>\n",
       "      <td>21:05:33</td>\n",
       "      <td>Chandler Bing</td>\n",
       "      <td>chandlerb@centralperk.coffee</td>\n",
       "      <td>212-555-1004</td>\n",
       "      <td>Y</td>\n",
       "    </tr>\n",
       "    <tr>\n",
       "      <th>4</th>\n",
       "      <td>5</td>\n",
       "      <td>2023-11-18</td>\n",
       "      <td>14:22:10</td>\n",
       "      <td>Joey</td>\n",
       "      <td>howyoudoing@centralperk.coffee</td>\n",
       "      <td>212-555-1005</td>\n",
       "      <td>N</td>\n",
       "    </tr>\n",
       "    <tr>\n",
       "      <th>5</th>\n",
       "      <td>6</td>\n",
       "      <td>2024-01-05</td>\n",
       "      <td>10:55:49</td>\n",
       "      <td>P&amp;! Buffay</td>\n",
       "      <td>smellycat@centralperk.coffee</td>\n",
       "      <td>212-555-1006</td>\n",
       "      <td>N</td>\n",
       "    </tr>\n",
       "    <tr>\n",
       "      <th>6</th>\n",
       "      <td>7</td>\n",
       "      <td>2024-02-14</td>\n",
       "      <td>16:40:05</td>\n",
       "      <td>Gunther</td>\n",
       "      <td>gunther@centralperk.coffee</td>\n",
       "      <td>212-555-1007</td>\n",
       "      <td>N</td>\n",
       "    </tr>\n",
       "    <tr>\n",
       "      <th>7</th>\n",
       "      <td>8</td>\n",
       "      <td>2023-04-20</td>\n",
       "      <td>09:15:30</td>\n",
       "      <td>Janice</td>\n",
       "      <td>ohmygod@centralperk.coffee</td>\n",
       "      <td>212-555-1008</td>\n",
       "      <td>N</td>\n",
       "    </tr>\n",
       "    <tr>\n",
       "      <th>8</th>\n",
       "      <td>9</td>\n",
       "      <td>2023-06-30</td>\n",
       "      <td>13:50:55</td>\n",
       "      <td>Mike H.^</td>\n",
       "      <td>mike@centralperk.coffee</td>\n",
       "      <td>212-555-1009</td>\n",
       "      <td>N</td>\n",
       "    </tr>\n",
       "    <tr>\n",
       "      <th>9</th>\n",
       "      <td>10</td>\n",
       "      <td>2023-08-25</td>\n",
       "      <td>17:25:10</td>\n",
       "      <td>Emily</td>\n",
       "      <td>emily@centralperk.coffee</td>\n",
       "      <td>212-555-1010</td>\n",
       "      <td>N</td>\n",
       "    </tr>\n",
       "  </tbody>\n",
       "</table>\n",
       "</div>"
      ],
      "text/plain": [
       "   cust_id        date      time           name  \\\n",
       "0        1  2023-03-15  08:45:12         Rachel   \n",
       "1        2  2023-05-22  12:30:45     R&! Geller   \n",
       "2        3  2023-07-09  18:15:27  Monica Geller   \n",
       "3        4  2023-09-01  21:05:33  Chandler Bing   \n",
       "4        5  2023-11-18  14:22:10           Joey   \n",
       "5        6  2024-01-05  10:55:49     P&! Buffay   \n",
       "6        7  2024-02-14  16:40:05        Gunther   \n",
       "7        8  2023-04-20  09:15:30         Janice   \n",
       "8        9  2023-06-30  13:50:55       Mike H.^   \n",
       "9       10  2023-08-25  17:25:10          Emily   \n",
       "\n",
       "                            email         phone sms-opt-out  \n",
       "0       rachel@centralperk.coffee  212-555-1001           N  \n",
       "1        rossg@centralperk.coffee  212-555-1002           N  \n",
       "2   chefmonica@centralperk.coffee  212-555-1003           N  \n",
       "3    chandlerb@centralperk.coffee  212-555-1004           Y  \n",
       "4  howyoudoing@centralperk.coffee  212-555-1005           N  \n",
       "5    smellycat@centralperk.coffee  212-555-1006           N  \n",
       "6      gunther@centralperk.coffee  212-555-1007           N  \n",
       "7      ohmygod@centralperk.coffee  212-555-1008           N  \n",
       "8         mike@centralperk.coffee  212-555-1009           N  \n",
       "9        emily@centralperk.coffee  212-555-1010           N  "
      ]
     },
     "execution_count": 3,
     "metadata": {},
     "output_type": "execute_result"
    }
   ],
   "source": [
    "df.head(10)"
   ]
  },
  {
   "cell_type": "markdown",
   "id": "55185321-ad22-40f8-ae08-d4b5462f63e2",
   "metadata": {},
   "source": [
    "## Now that we have a DataFrame to work with LETS GET TO THE FUN PART!"
   ]
  },
  {
   "cell_type": "raw",
   "id": "67989380-221a-43c0-b058-269ebe0051e9",
   "metadata": {},
   "source": [
    "The first thing I notice immediately is that sms-opt-out has hyphens and that's not really preferred in programming languages\n",
    "because of syntax compatibility, readability, and the ease of access in code. So, my first thought is to change this to drum roll\n",
    "an underscore!"
   ]
  },
  {
   "cell_type": "code",
   "execution_count": 4,
   "id": "4af28268-37f2-4c85-a963-af0c1faf0683",
   "metadata": {},
   "outputs": [],
   "source": [
    "df = df.rename(columns={'sms-opt-out': 'sms_opt_out'})"
   ]
  },
  {
   "cell_type": "code",
   "execution_count": 5,
   "id": "794a12a2-5063-4137-b9ff-81afc6a80103",
   "metadata": {},
   "outputs": [
    {
     "data": {
      "text/plain": [
       "Index(['cust_id', 'date', 'time', 'name', 'email', 'phone', 'sms_opt_out'], dtype='object')"
      ]
     },
     "execution_count": 5,
     "metadata": {},
     "output_type": "execute_result"
    }
   ],
   "source": [
    "df.columns"
   ]
  },
  {
   "cell_type": "code",
   "execution_count": 6,
   "id": "62de18ec-1e1c-4076-a3c8-24f549056803",
   "metadata": {},
   "outputs": [
    {
     "name": "stdout",
     "output_type": "stream",
     "text": [
      "Empty DataFrame\n",
      "Columns: [cust_id, date, time, name, email, phone, sms_opt_out]\n",
      "Index: []\n"
     ]
    }
   ],
   "source": [
    "print(df[df.duplicated()])"
   ]
  },
  {
   "cell_type": "raw",
   "id": "a465464d-a869-474b-833d-209d4ff5b259",
   "metadata": {},
   "source": [
    "No listed duplicates for this data!"
   ]
  },
  {
   "cell_type": "markdown",
   "id": "4342b487-b6b8-46cc-8121-d4d452f1f09f",
   "metadata": {},
   "source": [
    "## User Input data for new Customers!"
   ]
  },
  {
   "cell_type": "markdown",
   "id": "8a5b1c4d-4b96-4cf8-822f-be9c021c216b",
   "metadata": {},
   "source": [
    "**Convert the date Column to a Date Format and determine the next cust_id**"
   ]
  },
  {
   "cell_type": "raw",
   "id": "f7833695-5c9b-46c6-a47d-def11400d4f6",
   "metadata": {},
   "source": [
    "This code below works with the current data that is established in the dataframe to make sure it's current date is changed to the\n",
    "datetime format this comes from our datetime import library. Now we don't want the time portion that comes with datetime, we need\n",
    "to extract only the date portion and put this as the input for the column."
   ]
  },
  {
   "cell_type": "code",
   "execution_count": 7,
   "id": "01de89c0-b9fa-428c-b47a-a2119e24061c",
   "metadata": {},
   "outputs": [],
   "source": [
    "df['date'] = pd.to_datetime(df['date'], errors='coerce')\n",
    "\n",
    "df['date'] = df['date'].dt.date"
   ]
  },
  {
   "cell_type": "markdown",
   "id": "e51f7228-6536-4560-a94a-e5347fda0388",
   "metadata": {},
   "source": [
    "**Determine the next cust_id**"
   ]
  },
  {
   "cell_type": "code",
   "execution_count": 8,
   "id": "501d80e0-d2ad-4620-a5b9-47f291450ae2",
   "metadata": {},
   "outputs": [],
   "source": [
    "next_cust_id = df['cust_id'].max() + 1"
   ]
  },
  {
   "cell_type": "markdown",
   "id": "c6e467c3-7c07-4751-a4f6-d919125698b0",
   "metadata": {},
   "source": [
    "**Dictionary for new customer data.**"
   ]
  },
  {
   "cell_type": "code",
   "execution_count": 9,
   "id": "9e0e96c5-2cf0-4ba3-aa53-42e1e4cd3c84",
   "metadata": {},
   "outputs": [],
   "source": [
    "new_data = {'cust_id': next_cust_id}"
   ]
  },
  {
   "cell_type": "markdown",
   "id": "1451298c-5c6f-4562-8301-862de6bfee38",
   "metadata": {},
   "source": [
    "**Collect the current time and date**"
   ]
  },
  {
   "cell_type": "code",
   "execution_count": 10,
   "id": "e5336f94-80bf-4eab-9f5d-a826f53f7d33",
   "metadata": {},
   "outputs": [],
   "source": [
    "current_datetime = datetime.now()\n",
    "\n",
    "new_data['date'] = current_datetime.strftime('%Y-%m-%d')\n",
    "new_data['time'] = current_datetime.strftime('%H:%M:%S')"
   ]
  },
  {
   "cell_type": "markdown",
   "id": "5d9a2111-290d-42be-85aa-3a64a8d30be4",
   "metadata": {},
   "source": [
    "**Define Columns and Collect User Input**"
   ]
  },
  {
   "cell_type": "code",
   "execution_count": 11,
   "id": "016f9cfa-89bb-4e6e-a76c-cbd743bff465",
   "metadata": {},
   "outputs": [],
   "source": [
    "columns = ['cust_id', 'date', 'time', 'name', 'email', 'phone', 'sms_opt_out']"
   ]
  },
  {
   "cell_type": "markdown",
   "id": "b14cc9eb-dda5-45c3-88db-9c3e62a0786f",
   "metadata": {},
   "source": [
    "**Loop Through Specific Columns and Prompt for User Input**"
   ]
  },
  {
   "cell_type": "raw",
   "id": "a04afe2d-ad8f-4af0-a6e1-afc4ed8293bd",
   "metadata": {},
   "source": [
    "This loop starts from the fourth column (Index 3) and onward. This prompts the user to input data starting at name and so forth. \n",
    "We skip cust_id, date, and time because we have auto established them with our previous code."
   ]
  },
  {
   "cell_type": "code",
   "execution_count": 12,
   "id": "96bd3a85-cab2-4e83-8825-a2d412405673",
   "metadata": {},
   "outputs": [
    {
     "name": "stdin",
     "output_type": "stream",
     "text": [
      "Enter name (or leave blank for None):  Anthony\n",
      "Enter email (or leave blank for None):  example@yahoo.com\n",
      "Enter phone (or leave blank for None):  7732261000\n",
      "Enter sms_opt_out (or leave blank for None):  Y\n"
     ]
    }
   ],
   "source": [
    "for col in columns[3:]:\n",
    "    value = input(f\"Enter {col} (or leave blank for None): \")\n",
    "    new_data[col] = value if value.strip() else \"None\""
   ]
  },
  {
   "cell_type": "markdown",
   "id": "1f614ef6-9d33-4813-a170-31468c7666f6",
   "metadata": {},
   "source": [
    "**Create a New Row as a DataFrame and Concatenate the new row to the exisiting DataFrame**"
   ]
  },
  {
   "cell_type": "raw",
   "id": "fcfc909a-69c8-4f44-9a40-8406d8fbc641",
   "metadata": {},
   "source": [
    "First line of code converts the new_data dictionary into a Pandas DataFrame.\n",
    "Second line combines the original dataframe with the new row!"
   ]
  },
  {
   "cell_type": "code",
   "execution_count": 13,
   "id": "37564ebd-1a49-4ff9-9470-625192c530be",
   "metadata": {},
   "outputs": [],
   "source": [
    "new_row = pd.DataFrame([new_data]) \n",
    "df = pd.concat([df, new_row], ignore_index=True)"
   ]
  },
  {
   "cell_type": "markdown",
   "id": "0f93c50c-19dd-4977-a533-2a8facf5e26b",
   "metadata": {},
   "source": [
    "**Save the Updated DataFrame to a CSV File**"
   ]
  },
  {
   "cell_type": "raw",
   "id": "d74cea57-9ea4-4767-9734-999ba2a971db",
   "metadata": {},
   "source": [
    "This line saves the updated DataFrame df (which now inlcudes the new record!) to our original CSV file.\n",
    "The second line prints a little cute message that confirms the new data has been entered :)"
   ]
  },
  {
   "cell_type": "code",
   "execution_count": 14,
   "id": "4b5dbd59-f03c-4448-bdfe-722aa6426f42",
   "metadata": {},
   "outputs": [
    {
     "name": "stdout",
     "output_type": "stream",
     "text": [
      "New Data Entered ^_^\n"
     ]
    }
   ],
   "source": [
    "df.to_csv('customer_list_updated.csv', index=False, sep='|')\n",
    "print(\"New Data Entered ^_^\")"
   ]
  },
  {
   "cell_type": "markdown",
   "id": "3ce550ab-7c49-45cf-bc69-36cac39f7140",
   "metadata": {},
   "source": [
    "## Time to Clean up the brand new DataFrame with the added Row"
   ]
  },
  {
   "cell_type": "markdown",
   "id": "771ce975-0f63-4daf-aed0-e5004b6cb4c6",
   "metadata": {},
   "source": [
    "**Handle Missing sms_opt_out Values**"
   ]
  },
  {
   "cell_type": "raw",
   "id": "75edc21b-d56f-4c5d-8d68-a700073e0154",
   "metadata": {},
   "source": [
    "Rows in the DataFrame where the sms_opt_out column has missing values it replaces it with 'Y'"
   ]
  },
  {
   "cell_type": "code",
   "execution_count": 15,
   "id": "17b2625b-cf78-479a-8ff6-b71f5522c220",
   "metadata": {},
   "outputs": [],
   "source": [
    "df.loc[df['sms_opt_out'].isnull(), 'sms_opt_out'] = \"Y\""
   ]
  },
  {
   "cell_type": "markdown",
   "id": "37763869-a571-4046-8b42-310152c789d3",
   "metadata": {},
   "source": [
    "**Filling values in all columns that have missing values into None**"
   ]
  },
  {
   "cell_type": "code",
   "execution_count": 16,
   "id": "fa42a360-74b2-470d-9a39-a4847d449993",
   "metadata": {},
   "outputs": [],
   "source": [
    "df[columns] = df[columns].fillna(\"None\")"
   ]
  },
  {
   "cell_type": "markdown",
   "id": "17ce478f-d279-4b0f-af5f-34f6f58305d3",
   "metadata": {},
   "source": [
    "**Clean Phone Numbers**"
   ]
  },
  {
   "cell_type": "raw",
   "id": "f4781c34-5149-4a18-b82e-3c92ae5114fb",
   "metadata": {},
   "source": [
    "The code takes each value in the 'phone' column, converts it to a string, filters out only the numeric digits, concatenates \n",
    "them, and then keeps the last 10 digits."
   ]
  },
  {
   "cell_type": "code",
   "execution_count": 17,
   "id": "0358bb38-8bc0-4c2c-a773-e56eabf11c6e",
   "metadata": {
    "scrolled": true
   },
   "outputs": [],
   "source": [
    "df['phone'] = df['phone'].apply(\n",
    "    lambda x: ''.join(filter(str.isdigit, str(x)))[-10:])"
   ]
  },
  {
   "cell_type": "raw",
   "id": "9c75501d-b8d0-438d-8abc-2fb1f94c908a",
   "metadata": {},
   "source": [
    "This line of code formats the previous string of 10 digits we created into a format of XXX-XXX-XXXX"
   ]
  },
  {
   "cell_type": "code",
   "execution_count": 19,
   "id": "52febe01-8d35-4445-ab78-e662f7f1b9d1",
   "metadata": {},
   "outputs": [],
   "source": [
    "df['phone'] = df['phone'].apply(\n",
    "    lambda x: f\"{x[:3]}-{x[3:6]}-{x[6:]}\" if len(x) == 10 else \"None_Number\")"
   ]
  },
  {
   "cell_type": "markdown",
   "id": "e3aae3e1-84b4-42bd-9513-7a7ce98e03b0",
   "metadata": {},
   "source": [
    "**Convert email to lowercase and strip any whitespace**"
   ]
  },
  {
   "cell_type": "code",
   "execution_count": 20,
   "id": "603fef64-1fa2-48a0-88c3-cc2babb6ee0f",
   "metadata": {},
   "outputs": [],
   "source": [
    "df['email'] = df['email'].str.lower().str.strip()"
   ]
  },
  {
   "cell_type": "markdown",
   "id": "c5700b2f-df0d-441f-88ae-ab6a4d640c14",
   "metadata": {},
   "source": [
    "**Removes characters that are not letters, hyphens, or periods**"
   ]
  },
  {
   "cell_type": "code",
   "execution_count": 21,
   "id": "7cc36471-2927-4ea0-9724-6ea2b75bb447",
   "metadata": {},
   "outputs": [],
   "source": [
    "df['name'] = df['name'].str.replace(r\"[^a-zA-Z-.' ]\", '', regex=True).str.title().str.strip()"
   ]
  },
  {
   "cell_type": "markdown",
   "id": "d4dee74f-b0ed-49e3-aec0-e8c0b2e7cf00",
   "metadata": {},
   "source": [
    "**Removes duplicates based on name and email**"
   ]
  },
  {
   "cell_type": "code",
   "execution_count": 22,
   "id": "9bb24c1f-d66e-4950-a038-1eb8f9a89f28",
   "metadata": {},
   "outputs": [],
   "source": [
    "df.drop_duplicates(subset=['cust_id', 'email'], inplace=True)"
   ]
  },
  {
   "cell_type": "code",
   "execution_count": 23,
   "id": "e8e70d34-f449-46dd-958a-7164c5643bb3",
   "metadata": {},
   "outputs": [],
   "source": [
    "df.to_csv(\"cleaned_customer_data.csv\", index=False)"
   ]
  },
  {
   "cell_type": "code",
   "execution_count": null,
   "id": "12b0f964-f3a0-4b53-b9d7-35ed04bc16b5",
   "metadata": {},
   "outputs": [],
   "source": []
  }
 ],
 "metadata": {
  "kernelspec": {
   "display_name": "Python 3 (ipykernel)",
   "language": "python",
   "name": "python3"
  },
  "language_info": {
   "codemirror_mode": {
    "name": "ipython",
    "version": 3
   },
   "file_extension": ".py",
   "mimetype": "text/x-python",
   "name": "python",
   "nbconvert_exporter": "python",
   "pygments_lexer": "ipython3",
   "version": "3.12.3"
  }
 },
 "nbformat": 4,
 "nbformat_minor": 5
}
