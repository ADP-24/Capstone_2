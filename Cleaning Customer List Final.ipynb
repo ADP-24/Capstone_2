{
 "cells": [
  {
   "cell_type": "code",
   "execution_count": 1,
   "id": "492bcace-1b19-40ae-912e-a597432b005e",
   "metadata": {},
   "outputs": [],
   "source": [
    "import pandas as pd\n",
    "from datetime import datetime"
   ]
  },
  {
   "cell_type": "code",
   "execution_count": 2,
   "id": "c4c8d877-b440-42e5-868b-e5ceed7725c8",
   "metadata": {},
   "outputs": [],
   "source": [
    "cust_list = pd.read_csv('customer_list_updated.csv', delimiter='|')\n",
    "\n",
    "cust_list.columns = cust_list.columns.str.strip()\n",
    "\n",
    "columns = ['cust_id', 'date', 'time', 'name', 'email', 'phone', 'sms-opt-out']"
   ]
  },
  {
   "cell_type": "code",
   "execution_count": 3,
   "id": "01de89c0-b9fa-428c-b47a-a2119e24061c",
   "metadata": {},
   "outputs": [],
   "source": [
    "cust_list['date'] = pd.to_datetime(cust_list['date'], errors='coerce')\n",
    "\n",
    "cust_list['date'] = cust_list['date'].dt.date\n",
    "\n",
    "if not cust_list.empty and 'cust_id' in cust_list.columns:\n",
    "    next_cust_id = cust_list['cust_id'].max() + 1\n",
    "else:\n",
    "    next_cust_id = 1"
   ]
  },
  {
   "cell_type": "code",
   "execution_count": 4,
   "id": "9e0e96c5-2cf0-4ba3-aa53-42e1e4cd3c84",
   "metadata": {},
   "outputs": [],
   "source": [
    "new_data = {'cust_id': next_cust_id}"
   ]
  },
  {
   "cell_type": "code",
   "execution_count": 5,
   "id": "caf97ff7-b227-4171-b834-42d4c8700d65",
   "metadata": {},
   "outputs": [],
   "source": [
    "current_datetime = datetime.now()"
   ]
  },
  {
   "cell_type": "code",
   "execution_count": 6,
   "id": "e5336f94-80bf-4eab-9f5d-a826f53f7d33",
   "metadata": {},
   "outputs": [],
   "source": [
    "new_data['date'] = current_datetime.strftime('%Y-%m-%d')\n",
    "new_data['time'] = current_datetime.strftime('%H:%M:%S')"
   ]
  },
  {
   "cell_type": "code",
   "execution_count": 7,
   "id": "016f9cfa-89bb-4e6e-a76c-cbd743bff465",
   "metadata": {},
   "outputs": [],
   "source": [
    "columns = ['cust_id', 'date', 'time', 'name', 'email', 'phone', 'sms-opt-out']"
   ]
  },
  {
   "cell_type": "code",
   "execution_count": 8,
   "id": "96bd3a85-cab2-4e83-8825-a2d412405673",
   "metadata": {},
   "outputs": [
    {
     "name": "stdin",
     "output_type": "stream",
     "text": [
      "Enter name (or leave blank for None):  Anthony\n",
      "Enter email (or leave blank for None):  cubsperez95@yahoo.com\n",
      "Enter phone (or leave blank for None):  773-226-1000\n",
      "Enter sms-opt-out (or leave blank for None):  Y\n"
     ]
    }
   ],
   "source": [
    "for col in columns[3:]:\n",
    "    value = input(f\"Enter {col} (or leave blank for None): \")\n",
    "    new_data[col] = value if value.strip() else \"None\""
   ]
  },
  {
   "cell_type": "code",
   "execution_count": 9,
   "id": "37564ebd-1a49-4ff9-9470-625192c530be",
   "metadata": {},
   "outputs": [],
   "source": [
    "new_row = pd.DataFrame([new_data]) \n",
    "cust_list = pd.concat([cust_list, new_row], ignore_index=True)"
   ]
  },
  {
   "cell_type": "code",
   "execution_count": 10,
   "id": "4b5dbd59-f03c-4448-bdfe-722aa6426f42",
   "metadata": {},
   "outputs": [
    {
     "name": "stdout",
     "output_type": "stream",
     "text": [
      "New Data Entered ^_^\n"
     ]
    }
   ],
   "source": [
    "cust_list.to_csv('customer_list_updated.csv', index=False, sep='|')\n",
    "print(\"New Data Entered ^_^\")"
   ]
  },
  {
   "cell_type": "code",
   "execution_count": 11,
   "id": "fa42a360-74b2-470d-9a39-a4847d449993",
   "metadata": {},
   "outputs": [],
   "source": [
    "cust_list[columns] = cust_list[columns].fillna(\"None\")"
   ]
  },
  {
   "cell_type": "code",
   "execution_count": 12,
   "id": "b7a9122b-4740-4651-a39c-2fc20c9ee332",
   "metadata": {},
   "outputs": [],
   "source": [
    "cust_list = cust_list.rename(columns={'sms-opt-out': 'sms_opt_out'})"
   ]
  },
  {
   "cell_type": "code",
   "execution_count": 13,
   "id": "17b2625b-cf78-479a-8ff6-b71f5522c220",
   "metadata": {},
   "outputs": [],
   "source": [
    "cust_list.loc[cust_list['sms_opt_out'].isnull(), 'sms_opt_out'] = \"N\" #missing values are replaced with \"N\" in the sms_opt_out"
   ]
  },
  {
   "cell_type": "code",
   "execution_count": 14,
   "id": "0358bb38-8bc0-4c2c-a773-e56eabf11c6e",
   "metadata": {
    "scrolled": true
   },
   "outputs": [],
   "source": [
    "cust_list['phone'] = cust_list['phone'].apply(\n",
    "    lambda x: ''.join(filter(str.isdigit, str(x)))[-10:] if pd.notnull(x) else \"None\"\n",
    ")\n",
    "cust_list['phone'] = cust_list['phone'].apply(\n",
    "    lambda x: f\"{x[:3]}-{x[3:6]}-{x[6:]}\" if x and len(x) == 10 else \"None\"\n",
    ")"
   ]
  },
  {
   "cell_type": "code",
   "execution_count": 15,
   "id": "603fef64-1fa2-48a0-88c3-cc2babb6ee0f",
   "metadata": {},
   "outputs": [],
   "source": [
    "cust_list['email'] = cust_list['email'].str.lower().str.strip() #Convert email to lowercase and strip any whitespace"
   ]
  },
  {
   "cell_type": "code",
   "execution_count": 16,
   "id": "7cc36471-2927-4ea0-9724-6ea2b75bb447",
   "metadata": {},
   "outputs": [],
   "source": [
    "cust_list['name'] = cust_list['name'].str.replace(r\"[^a-zA-Z-.' ]\", '', regex=True).str.title().str.strip()\n",
    "#Removes characters that are not letters, hyphens, or periods"
   ]
  },
  {
   "cell_type": "code",
   "execution_count": 17,
   "id": "9bb24c1f-d66e-4950-a038-1eb8f9a89f28",
   "metadata": {},
   "outputs": [],
   "source": [
    "cust_list.drop_duplicates(subset=['cust_id', 'email'], inplace=True) # Removes duplicates based on name and email"
   ]
  },
  {
   "cell_type": "code",
   "execution_count": 18,
   "id": "e8e70d34-f449-46dd-958a-7164c5643bb3",
   "metadata": {},
   "outputs": [],
   "source": [
    "cust_list.to_csv(\"cleaned_customer_data.csv\", index=False)"
   ]
  }
 ],
 "metadata": {
  "kernelspec": {
   "display_name": "Python 3 (ipykernel)",
   "language": "python",
   "name": "python3"
  },
  "language_info": {
   "codemirror_mode": {
    "name": "ipython",
    "version": 3
   },
   "file_extension": ".py",
   "mimetype": "text/x-python",
   "name": "python",
   "nbconvert_exporter": "python",
   "pygments_lexer": "ipython3",
   "version": "3.12.3"
  }
 },
 "nbformat": 4,
 "nbformat_minor": 5
}
